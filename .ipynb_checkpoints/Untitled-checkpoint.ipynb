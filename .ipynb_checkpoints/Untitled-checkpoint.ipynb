{
 "cells": [
  {
   "cell_type": "markdown",
   "metadata": {},
   "source": [
    "## Segmenting and Clustering Neighborhoods in Toronto"
   ]
  },
  {
   "cell_type": "code",
   "execution_count": 1,
   "metadata": {},
   "outputs": [],
   "source": [
    "from IPython.core.interactiveshell import InteractiveShell\n",
    "InteractiveShell.ast_node_interactivity = \"all\"\n",
    "%matplotlib inline\n",
    "import matplotlib.pyplot as plt\n",
    "import numpy as np\n",
    "import pandas as pd\n",
    "import requests"
   ]
  },
  {
   "cell_type": "code",
   "execution_count": 5,
   "metadata": {},
   "outputs": [],
   "source": [
    "page = requests.get(\"https://en.wikipedia.org/wiki/List_of_postal_codes_of_Canada:_M\").text"
   ]
  },
  {
   "cell_type": "code",
   "execution_count": 6,
   "metadata": {},
   "outputs": [],
   "source": [
    "def find_all(a_string, sub):\n",
    "    result = []\n",
    "    k = 0\n",
    "    while k < len(a_string):\n",
    "        k = a_string.find(sub, k)\n",
    "        if k == -1:\n",
    "            return result\n",
    "        else:\n",
    "            result.append(k)\n",
    "            k += 1 #change to k += len(sub) to not search overlapping results\n",
    "    return result"
   ]
  },
  {
   "cell_type": "code",
   "execution_count": 22,
   "metadata": {},
   "outputs": [
    {
     "data": {
      "text/html": [
       "<div>\n",
       "<style scoped>\n",
       "    .dataframe tbody tr th:only-of-type {\n",
       "        vertical-align: middle;\n",
       "    }\n",
       "\n",
       "    .dataframe tbody tr th {\n",
       "        vertical-align: top;\n",
       "    }\n",
       "\n",
       "    .dataframe thead th {\n",
       "        text-align: right;\n",
       "    }\n",
       "</style>\n",
       "<table border=\"1\" class=\"dataframe\">\n",
       "  <thead>\n",
       "    <tr style=\"text-align: right;\">\n",
       "      <th></th>\n",
       "      <th>PostalCode</th>\n",
       "      <th>Borough</th>\n",
       "      <th>Neighborhood</th>\n",
       "    </tr>\n",
       "  </thead>\n",
       "  <tbody>\n",
       "    <tr>\n",
       "      <th>1</th>\n",
       "      <td>M1A</td>\n",
       "      <td>Not assigned</td>\n",
       "      <td>Not assigned</td>\n",
       "    </tr>\n",
       "    <tr>\n",
       "      <th>2</th>\n",
       "      <td>M2A</td>\n",
       "      <td>Not assigned</td>\n",
       "      <td>Not assigned</td>\n",
       "    </tr>\n",
       "    <tr>\n",
       "      <th>3</th>\n",
       "      <td>M3A</td>\n",
       "      <td>&lt;a href=\"/wiki/North_York\" title=\"North York\"&gt;...</td>\n",
       "      <td>Parkwoods\" title=\"Parkwoods\"&gt;Parkwoods&lt;/a&gt;\\n</td>\n",
       "    </tr>\n",
       "    <tr>\n",
       "      <th>4</th>\n",
       "      <td>M4A</td>\n",
       "      <td>&lt;a href=\"/wiki/North_York\" title=\"North York\"&gt;...</td>\n",
       "      <td>Victoria_Village\" title=\"Victoria Village\"&gt;Vic...</td>\n",
       "    </tr>\n",
       "    <tr>\n",
       "      <th>5</th>\n",
       "      <td>M5A</td>\n",
       "      <td>&lt;a href=\"/wiki/Downtown_Toronto\" title=\"Downto...</td>\n",
       "      <td>Harbourfront_(Toronto)\" title=\"Harbourfront (T...</td>\n",
       "    </tr>\n",
       "  </tbody>\n",
       "</table>\n",
       "</div>"
      ],
      "text/plain": [
       "  PostalCode                                            Borough  \\\n",
       "1        M1A                                       Not assigned   \n",
       "2        M2A                                       Not assigned   \n",
       "3        M3A  <a href=\"/wiki/North_York\" title=\"North York\">...   \n",
       "4        M4A  <a href=\"/wiki/North_York\" title=\"North York\">...   \n",
       "5        M5A  <a href=\"/wiki/Downtown_Toronto\" title=\"Downto...   \n",
       "\n",
       "                                        Neighborhood  \n",
       "1                                       Not assigned  \n",
       "2                                       Not assigned  \n",
       "3       Parkwoods\" title=\"Parkwoods\">Parkwoods</a>\\n  \n",
       "4  Victoria_Village\" title=\"Victoria Village\">Vic...  \n",
       "5  Harbourfront_(Toronto)\" title=\"Harbourfront (T...  "
      ]
     },
     "execution_count": 22,
     "metadata": {},
     "output_type": "execute_result"
    }
   ],
   "source": [
    "def getValue(text, b_element, e_element):\n",
    "    return text[text.find(b_element) + (len(element)+2):text.find(e_element) ]\n",
    "\n",
    "def getData(text):\n",
    "    begin_rows = find_all(text, \"<tr>\") # defines the row element\n",
    "    end_rows = find_all(text, \"</tr>\") # defines the row element\n",
    "    nrows = len(begin_rows)\n",
    "    data = pd.DataFrame(columns = [\"PostalCode\", \"Borough\", \"Neighborhood\"])\n",
    "    for irow in range(1, nrows):\n",
    "        b_indices = find_all(text[begin_rows[irow]:end_rows[irow]], \"<td>\")\n",
    "        e_indices = find_all(text[begin_rows[irow]:end_rows[irow]], \"</td>\")\n",
    "        data.loc[irow] = np.array([text[begin_rows[irow]:end_rows[irow]][b+4:e] for b,e in zip(b_indices, e_indices)])\n",
    "    data = data.replace(\"Not assigned\\n\", 'Not assigned')\n",
    "    data[\"Neighborhood\"] = data[\"Neighborhood\"].str.replace('<a href=\"/wiki/', '', regex=True)\n",
    "    data[\"Neighborhood\"] = data[\"Neighborhood\"].str.replace('<a href=\"/wiki/', '', regex=True)\n",
    "\n",
    "    return data\n",
    "tabledata = page[page.find('<table class=\"wikitable sortable\">') + len('<table class=\"wikitable sortable\">'):page.find('<table class=\"multicol\" role=\"presentation\" style=\"border-collapse: collapse; padding: 0; border: 0; background:transparent; width:100%;\">')]\n",
    "header = getData(tabledata)\n",
    "\n",
    "\n",
    "pd.DataFrame(header).head()\n"
   ]
  },
  {
   "cell_type": "code",
   "execution_count": null,
   "metadata": {},
   "outputs": [],
   "source": []
  },
  {
   "cell_type": "code",
   "execution_count": null,
   "metadata": {},
   "outputs": [],
   "source": []
  },
  {
   "cell_type": "code",
   "execution_count": null,
   "metadata": {},
   "outputs": [],
   "source": []
  }
 ],
 "metadata": {
  "kernelspec": {
   "display_name": "Python 3",
   "language": "python",
   "name": "python3"
  },
  "language_info": {
   "codemirror_mode": {
    "name": "ipython",
    "version": 3
   },
   "file_extension": ".py",
   "mimetype": "text/x-python",
   "name": "python",
   "nbconvert_exporter": "python",
   "pygments_lexer": "ipython3",
   "version": "3.6.7"
  }
 },
 "nbformat": 4,
 "nbformat_minor": 2
}
