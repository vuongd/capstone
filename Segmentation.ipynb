{
 "cells": [
  {
   "cell_type": "markdown",
   "metadata": {},
   "source": [
    "## Segmenting and Clustering Neighborhoods in Toronto"
   ]
  },
  {
   "cell_type": "markdown",
   "metadata": {},
   "source": [
    "Load required libraries for this task"
   ]
  },
  {
   "cell_type": "code",
   "execution_count": 1,
   "metadata": {},
   "outputs": [],
   "source": [
    "from IPython.core.interactiveshell import InteractiveShell\n",
    "InteractiveShell.ast_node_interactivity = \"all\"\n",
    "import numpy as np\n",
    "import pandas as pd\n",
    "import requests"
   ]
  },
  {
   "cell_type": "markdown",
   "metadata": {},
   "source": [
    "Use the Notebook to build the code to scrape the following Wikipedia page, https://en.wikipedia.org/wiki/List_of_postal_codes_of_Canada:_M, in order to obtain the data that is in the table of postal codes and to transform the data into a pandas dataframe like the one shown below:"
   ]
  },
  {
   "cell_type": "code",
   "execution_count": 2,
   "metadata": {},
   "outputs": [],
   "source": [
    "page = requests.get(\"https://en.wikipedia.org/wiki/List_of_postal_codes_of_Canada:_M\").text"
   ]
  },
  {
   "cell_type": "markdown",
   "metadata": {},
   "source": [
    "Let's define now some helper functions to automatize the extract of html elements "
   ]
  },
  {
   "cell_type": "code",
   "execution_count": 3,
   "metadata": {},
   "outputs": [],
   "source": [
    "def find_all(text, sub):\n",
    "    \"\"\" find all occurences of substring in larger string \n",
    "    and return their indices relative to the text string\n",
    "    \n",
    "    Key arguments\n",
    "    -------------\n",
    "    text:      text string\n",
    "    sub:       substring to be found in text\n",
    "    \n",
    "    Return\n",
    "    -------\n",
    "    indices:   indices of the found occurences relative to text\n",
    "    \"\"\"\n",
    "    occurencesIndex = []\n",
    "    index = 0\n",
    "    while index < len(text):\n",
    "        index = text.find(sub, index)\n",
    "        if index == -1:\n",
    "            return occurencesIndex\n",
    "        else:\n",
    "            occurencesIndex.append(index)\n",
    "            index += 1 \n",
    "    return occurencesIndex\n",
    "\n",
    "def getValue(text, b_element, e_element):\n",
    "    \"\"\" get text snippet with given indices for beginning and ending\n",
    "    Key arguments:\n",
    "    -------------\n",
    "    text:       text string\n",
    "    b_element:  begin html element <element>\n",
    "    e_element:  end html element </element>\n",
    "    \n",
    "    return:\n",
    "    ------\n",
    "    text snippet if element found in text, otherwise return original text\n",
    "    \"\"\"\n",
    "    if text.find(b_element) != -1:\n",
    "        return text[text.find(b_element) + len(b_element):text.find(e_element)]\n",
    "    else:\n",
    "        return text\n",
    "    "
   ]
  },
  {
   "cell_type": "markdown",
   "metadata": {},
   "source": [
    "The following function extracts the data from the table of the wikipedia homepage "
   ]
  },
  {
   "cell_type": "code",
   "execution_count": 4,
   "metadata": {},
   "outputs": [],
   "source": [
    "def getData(text):\n",
    "    \"\"\" get Data from html code\n",
    "    Key argument:\n",
    "    ------------\n",
    "    text:      text from which the data will be extracted (table text)\n",
    "    \n",
    "    return:\n",
    "    -------\n",
    "    pd.Dataframe \n",
    "    \"\"\"\n",
    "    rows = zip(find_all(text, \"<tr>\")[1:], find_all(text, \"</tr>\")[1:])\n",
    "    data =  []\n",
    "    for row_b, row_e in rows:\n",
    "        row_data = text[row_b:row_e]\n",
    "        sub_indices = zip(find_all(row_data, \"<td>\"), find_all(row_data, \"</td>\"))\n",
    "        data.append([row_data[sub_b+4:sub_e] for sub_b, sub_e in sub_indices])\n",
    "    return pd.DataFrame(data, columns = ['PostalCode' , 'Borough', 'Neighborhood'])"
   ]
  },
  {
   "cell_type": "markdown",
   "metadata": {},
   "source": [
    "table html from the page"
   ]
  },
  {
   "cell_type": "code",
   "execution_count": 5,
   "metadata": {},
   "outputs": [],
   "source": [
    "tabledata = page[page.find('<table class=\"wikitable sortable\">') + len('<table class=\"wikitable sortable\">'):page.find('<table class=\"multicol\" role=\"presentation\" style=\"border-collapse: collapse; padding: 0; border: 0; background:transparent; width:100%;\">')]"
   ]
  },
  {
   "cell_type": "markdown",
   "metadata": {},
   "source": [
    "get the data frame of the table html"
   ]
  },
  {
   "cell_type": "code",
   "execution_count": 6,
   "metadata": {},
   "outputs": [],
   "source": [
    "postcode_can = getData(tabledata)"
   ]
  },
  {
   "cell_type": "markdown",
   "metadata": {},
   "source": [
    "some decoration since Borough and Neighborhood have data elements of type hyperlink "
   ]
  },
  {
   "cell_type": "code",
   "execution_count": 7,
   "metadata": {},
   "outputs": [],
   "source": [
    "postcode_can[\"Borough\"] = [getValue(iString, '\">', \"</a>\") for iString in postcode_can[\"Borough\"]]\n",
    "postcode_can[\"Neighborhood\"] = [getValue(iString, '\">', \"</a>\").replace(\"\\n\", \"\") for iString in postcode_can[\"Neighborhood\"]]"
   ]
  },
  {
   "cell_type": "markdown",
   "metadata": {},
   "source": [
    "Only process the cells that have an assigned Borough. Ignore cells with a borough that is Not assigned."
   ]
  },
  {
   "cell_type": "code",
   "execution_count": 8,
   "metadata": {},
   "outputs": [],
   "source": [
    "postcode_can = postcode_can[postcode_can[\"Borough\"] != \"Not assigned\"]"
   ]
  },
  {
   "cell_type": "markdown",
   "metadata": {},
   "source": [
    "More than one neighborhood can exist in one postal code area. For example, in the table on the Wikipedia page, you will notice that M5A is listed twice and has two neighborhoods: Harbourfront and Regent Park. These two rows will be combined into one row with the neighborhoods separated with a comma."
   ]
  },
  {
   "cell_type": "code",
   "execution_count": 11,
   "metadata": {
    "scrolled": true
   },
   "outputs": [
    {
     "data": {
      "text/html": [
       "<div>\n",
       "<style scoped>\n",
       "    .dataframe tbody tr th:only-of-type {\n",
       "        vertical-align: middle;\n",
       "    }\n",
       "\n",
       "    .dataframe tbody tr th {\n",
       "        vertical-align: top;\n",
       "    }\n",
       "\n",
       "    .dataframe thead th {\n",
       "        text-align: right;\n",
       "    }\n",
       "</style>\n",
       "<table border=\"1\" class=\"dataframe\">\n",
       "  <thead>\n",
       "    <tr style=\"text-align: right;\">\n",
       "      <th></th>\n",
       "      <th>PostalCode</th>\n",
       "      <th>Borough</th>\n",
       "      <th>Neighborhood</th>\n",
       "    </tr>\n",
       "  </thead>\n",
       "  <tbody>\n",
       "    <tr>\n",
       "      <th>2</th>\n",
       "      <td>M3A</td>\n",
       "      <td>North York</td>\n",
       "      <td>Parkwoods</td>\n",
       "    </tr>\n",
       "    <tr>\n",
       "      <th>3</th>\n",
       "      <td>M4A</td>\n",
       "      <td>North York</td>\n",
       "      <td>Victoria Village</td>\n",
       "    </tr>\n",
       "    <tr>\n",
       "      <th>4</th>\n",
       "      <td>M5A</td>\n",
       "      <td>Downtown Toronto</td>\n",
       "      <td>Harbourfront, Regent Park</td>\n",
       "    </tr>\n",
       "    <tr>\n",
       "      <th>6</th>\n",
       "      <td>M6A</td>\n",
       "      <td>North York</td>\n",
       "      <td>Lawrence Heights, Lawrence Manor</td>\n",
       "    </tr>\n",
       "    <tr>\n",
       "      <th>8</th>\n",
       "      <td>M7A</td>\n",
       "      <td>Queen's Park</td>\n",
       "      <td>Not assigned</td>\n",
       "    </tr>\n",
       "    <tr>\n",
       "      <th>10</th>\n",
       "      <td>M9A</td>\n",
       "      <td>Etobicoke</td>\n",
       "      <td>Islington Avenue</td>\n",
       "    </tr>\n",
       "    <tr>\n",
       "      <th>11</th>\n",
       "      <td>M1B</td>\n",
       "      <td>Scarborough</td>\n",
       "      <td>Rouge, Malvern</td>\n",
       "    </tr>\n",
       "    <tr>\n",
       "      <th>14</th>\n",
       "      <td>M3B</td>\n",
       "      <td>North York</td>\n",
       "      <td>Don Mills North</td>\n",
       "    </tr>\n",
       "    <tr>\n",
       "      <th>15</th>\n",
       "      <td>M4B</td>\n",
       "      <td>East York</td>\n",
       "      <td>Woodbine Gardens, Parkview Hill</td>\n",
       "    </tr>\n",
       "    <tr>\n",
       "      <th>17</th>\n",
       "      <td>M5B</td>\n",
       "      <td>Downtown Toronto</td>\n",
       "      <td>Ryerson, Garden District</td>\n",
       "    </tr>\n",
       "  </tbody>\n",
       "</table>\n",
       "</div>"
      ],
      "text/plain": [
       "   PostalCode           Borough                      Neighborhood\n",
       "2         M3A        North York                         Parkwoods\n",
       "3         M4A        North York                  Victoria Village\n",
       "4         M5A  Downtown Toronto         Harbourfront, Regent Park\n",
       "6         M6A        North York  Lawrence Heights, Lawrence Manor\n",
       "8         M7A      Queen's Park                      Not assigned\n",
       "10        M9A         Etobicoke                  Islington Avenue\n",
       "11        M1B       Scarborough                    Rouge, Malvern\n",
       "14        M3B        North York                   Don Mills North\n",
       "15        M4B         East York   Woodbine Gardens, Parkview Hill\n",
       "17        M5B  Downtown Toronto          Ryerson, Garden District"
      ]
     },
     "execution_count": 11,
     "metadata": {},
     "output_type": "execute_result"
    }
   ],
   "source": [
    "postcode_can['Neighborhood'] = postcode_can.groupby(['PostalCode'])['Neighborhood'].transform(lambda x: ', '.join(x))\n",
    "postcode_can = postcode_can[['PostalCode', \"Borough\", \"Neighborhood\"]].drop_duplicates()\n",
    "postcode_can.head(10)"
   ]
  },
  {
   "cell_type": "markdown",
   "metadata": {},
   "source": [
    "In the last cell of your notebook, use the .shape method to print the number of rows of your dataframe."
   ]
  },
  {
   "cell_type": "code",
   "execution_count": 10,
   "metadata": {
    "scrolled": true
   },
   "outputs": [
    {
     "data": {
      "text/plain": [
       "(103, 3)"
      ]
     },
     "execution_count": 10,
     "metadata": {},
     "output_type": "execute_result"
    }
   ],
   "source": [
    "postcode_can.shape"
   ]
  }
 ],
 "metadata": {
  "kernelspec": {
   "display_name": "Python 3",
   "language": "python",
   "name": "python3"
  },
  "language_info": {
   "codemirror_mode": {
    "name": "ipython",
    "version": 3
   },
   "file_extension": ".py",
   "mimetype": "text/x-python",
   "name": "python",
   "nbconvert_exporter": "python",
   "pygments_lexer": "ipython3",
   "version": "3.6.7"
  }
 },
 "nbformat": 4,
 "nbformat_minor": 2
}
